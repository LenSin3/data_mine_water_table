{
 "cells": [
  {
   "cell_type": "code",
   "execution_count": 1,
   "id": "dafc0429",
   "metadata": {},
   "outputs": [],
   "source": [
    "import numpy as np\n",
    "import pandas as pd\n",
    "import tensorflow as tf\n",
    "import new_mlfuncs\n",
    "import funcs\n",
    "import mlfuncs\n",
    "import dlfuncs\n",
    "from tensorflow.keras import layers\n",
    "from keras.layers import Dense\n",
    "from keras.models import Sequential\n",
    "from keras.utils.np_utils import to_categorical\n",
    "from sklearn.model_selection import train_test_split\n",
    "from sklearn.preprocessing import OneHotEncoder, StandardScaler\n",
    "import tensorflow_addons as tfa"
   ]
  },
  {
   "cell_type": "code",
   "execution_count": 2,
   "id": "341dcdbd",
   "metadata": {},
   "outputs": [],
   "source": [
    "pd.set_option('display.max_columns', 500)"
   ]
  },
  {
   "cell_type": "code",
   "execution_count": 3,
   "id": "46772e01",
   "metadata": {},
   "outputs": [
    {
     "name": "stdout",
     "output_type": "stream",
     "text": [
      "There are 41 columns and 59400 records in the dataframe.\n",
      "Extracting count and percentages of nulls and non nulls\n"
     ]
    }
   ],
   "source": [
    "# import train data\n",
    "train_filepath = 'data/df_merged.csv'\n",
    "train_df, train_df_nulls = funcs.read_and_qa(train_filepath)"
   ]
  },
  {
   "cell_type": "code",
   "execution_count": 4,
   "id": "347c5810",
   "metadata": {},
   "outputs": [
    {
     "name": "stdout",
     "output_type": "stream",
     "text": [
      "There are 40 columns and 14850 records in the dataframe.\n",
      "Extracting count and percentages of nulls and non nulls\n"
     ]
    }
   ],
   "source": [
    "# import test data\n",
    "test_filepath = 'data/test_values.csv'\n",
    "test_df, test_df_nulls = funcs.read_and_qa(test_filepath)"
   ]
  },
  {
   "cell_type": "code",
   "execution_count": 5,
   "id": "85dbe862",
   "metadata": {},
   "outputs": [],
   "source": [
    "# initial columns to drop\n",
    "initial_to_drop = ['id', 'date_recorded', 'num_private', 'region', 'permit', 'installer', 'wpt_name', 'subvillage', 'lga', 'ward',\\\n",
    "                  'management_group', 'payment']\n",
    "target_var = 'status_group'\n",
    "num_cols = []\n",
    "feats_to_exclude = []"
   ]
  },
  {
   "cell_type": "code",
   "execution_count": 6,
   "id": "aab6c7df",
   "metadata": {},
   "outputs": [
    {
     "name": "stdout",
     "output_type": "stream",
     "text": [
      "Dropping: id\n",
      "Dropping: date_recorded\n",
      "Dropping: num_private\n",
      "Dropping: region\n",
      "Dropping: permit\n",
      "Dropping: installer\n",
      "Dropping: wpt_name\n",
      "Dropping: subvillage\n",
      "Dropping: lga\n",
      "Dropping: ward\n",
      "Dropping: management_group\n",
      "Dropping: payment\n",
      "Dropping scheme_name due to missing values count above threshold: 0.4\n",
      "There are no high correlated features. No column will be dropped!\n",
      "Dropping low variance feature: public_meeting\n",
      "Dropping low variance feature: recorded_by\n"
     ]
    }
   ],
   "source": [
    "train_red_df = new_mlfuncs.pre_ml_preprocessing(train_df, initial_to_drop, num_cols, target_var = 'status_group', missing_val_threshold = 40, num_cols_threshold = 0.9, low_var_threshold = 0.9)"
   ]
  },
  {
   "cell_type": "code",
   "execution_count": 7,
   "id": "5b7fe86c",
   "metadata": {},
   "outputs": [
    {
     "name": "stdout",
     "output_type": "stream",
     "text": [
      "Dropping: id\n",
      "Dropping: date_recorded\n",
      "Dropping: num_private\n",
      "Dropping: region\n",
      "Dropping: permit\n",
      "Dropping: installer\n",
      "Dropping: wpt_name\n",
      "Dropping: subvillage\n",
      "Dropping: lga\n",
      "Dropping: ward\n",
      "Dropping: management_group\n",
      "Dropping: payment\n",
      "Dropping scheme_name due to missing values count above threshold: 0.4\n",
      "There are no high correlated features. No column will be dropped!\n",
      "Dropping low variance feature: public_meeting\n",
      "Dropping low variance feature: recorded_by\n"
     ]
    }
   ],
   "source": [
    "test_red_df = new_mlfuncs.pre_ml_preprocessing(test_df, initial_to_drop, num_cols, target_var = None, missing_val_threshold = 40, num_cols_threshold = 0.9, low_var_threshold = 0.9)"
   ]
  },
  {
   "cell_type": "code",
   "execution_count": 8,
   "id": "8278e7f1",
   "metadata": {},
   "outputs": [],
   "source": [
    "train, test, le = new_mlfuncs.target_encode_categorical_features(train_red_df, test_red_df, target=target_var, alpha=10)"
   ]
  },
  {
   "cell_type": "code",
   "execution_count": 9,
   "id": "0e81bb1b",
   "metadata": {},
   "outputs": [],
   "source": [
    "SEED = 42"
   ]
  },
  {
   "cell_type": "code",
   "execution_count": 10,
   "id": "94f8cd5c",
   "metadata": {},
   "outputs": [],
   "source": [
    "metrics = 'accuracy'\n",
    "target_var = 'target_encoded'"
   ]
  },
  {
   "cell_type": "code",
   "execution_count": 11,
   "id": "1340d297",
   "metadata": {},
   "outputs": [
    {
     "name": "stdout",
     "output_type": "stream",
     "text": [
      "Model: \"sequential\"\n",
      "_________________________________________________________________\n",
      " Layer (type)                Output Shape              Param #   \n",
      "=================================================================\n",
      " dense (Dense)               (None, 1024)              26624     \n",
      "                                                                 \n",
      " batch_normalization (BatchN  (None, 1024)             4096      \n",
      " ormalization)                                                   \n",
      "                                                                 \n",
      " dense_1 (Dense)             (None, 512)               524800    \n",
      "                                                                 \n",
      " dense_2 (Dense)             (None, 256)               131328    \n",
      "                                                                 \n",
      " dense_3 (Dense)             (None, 128)               32896     \n",
      "                                                                 \n",
      " dropout (Dropout)           (None, 128)               0         \n",
      "                                                                 \n",
      " dense_4 (Dense)             (None, 3)                 387       \n",
      "                                                                 \n",
      "=================================================================\n",
      "Total params: 720,131\n",
      "Trainable params: 718,083\n",
      "Non-trainable params: 2,048\n",
      "_________________________________________________________________\n",
      "Epoch 1/50\n",
      "569/569 [==============================] - 3s 3ms/step - loss: 0.6748 - accuracy: 0.7302 - val_loss: 0.6234 - val_accuracy: 0.7377\n",
      "Epoch 2/50\n",
      "569/569 [==============================] - 2s 3ms/step - loss: 0.6337 - accuracy: 0.7466 - val_loss: 0.6072 - val_accuracy: 0.7481\n",
      "Epoch 3/50\n",
      "569/569 [==============================] - 2s 3ms/step - loss: 0.6178 - accuracy: 0.7523 - val_loss: 0.6131 - val_accuracy: 0.7465\n",
      "Epoch 4/50\n",
      "569/569 [==============================] - 2s 3ms/step - loss: 0.6049 - accuracy: 0.7564 - val_loss: 0.5972 - val_accuracy: 0.7534\n",
      "Epoch 5/50\n",
      "569/569 [==============================] - 2s 3ms/step - loss: 0.5942 - accuracy: 0.7603 - val_loss: 0.6009 - val_accuracy: 0.7545\n",
      "Epoch 6/50\n",
      "569/569 [==============================] - 2s 3ms/step - loss: 0.5874 - accuracy: 0.7630 - val_loss: 0.5935 - val_accuracy: 0.7634\n",
      "Epoch 7/50\n",
      "569/569 [==============================] - 2s 3ms/step - loss: 0.5789 - accuracy: 0.7645 - val_loss: 0.5876 - val_accuracy: 0.7595\n",
      "Epoch 8/50\n",
      "569/569 [==============================] - 2s 3ms/step - loss: 0.5694 - accuracy: 0.7703 - val_loss: 0.5888 - val_accuracy: 0.7615\n",
      "Epoch 9/50\n",
      "569/569 [==============================] - 2s 3ms/step - loss: 0.5647 - accuracy: 0.7709 - val_loss: 0.5762 - val_accuracy: 0.7670\n",
      "Epoch 10/50\n",
      "569/569 [==============================] - 2s 3ms/step - loss: 0.5564 - accuracy: 0.7764 - val_loss: 0.5740 - val_accuracy: 0.7613\n",
      "Epoch 11/50\n",
      "569/569 [==============================] - 2s 3ms/step - loss: 0.5488 - accuracy: 0.7787 - val_loss: 0.5740 - val_accuracy: 0.7670\n",
      "Epoch 12/50\n",
      "569/569 [==============================] - 2s 3ms/step - loss: 0.5403 - accuracy: 0.7805 - val_loss: 0.5732 - val_accuracy: 0.7702\n",
      "Epoch 13/50\n",
      "569/569 [==============================] - 2s 3ms/step - loss: 0.5351 - accuracy: 0.7832 - val_loss: 0.5761 - val_accuracy: 0.7664\n",
      "Epoch 14/50\n",
      "569/569 [==============================] - 2s 3ms/step - loss: 0.5292 - accuracy: 0.7847 - val_loss: 0.5650 - val_accuracy: 0.7689\n",
      "Epoch 15/50\n",
      "569/569 [==============================] - 2s 3ms/step - loss: 0.5224 - accuracy: 0.7887 - val_loss: 0.5765 - val_accuracy: 0.7718\n",
      "Epoch 16/50\n",
      "569/569 [==============================] - 2s 3ms/step - loss: 0.5180 - accuracy: 0.7895 - val_loss: 0.5649 - val_accuracy: 0.7667\n",
      "Epoch 17/50\n",
      "569/569 [==============================] - 2s 3ms/step - loss: 0.5129 - accuracy: 0.7903 - val_loss: 0.5659 - val_accuracy: 0.7711\n",
      "Epoch 18/50\n",
      "569/569 [==============================] - 2s 3ms/step - loss: 0.5075 - accuracy: 0.7930 - val_loss: 0.5651 - val_accuracy: 0.7716\n",
      "Epoch 19/50\n",
      "569/569 [==============================] - 2s 3ms/step - loss: 0.4997 - accuracy: 0.7934 - val_loss: 0.5732 - val_accuracy: 0.7722\n",
      "Epoch 20/50\n",
      "569/569 [==============================] - 2s 3ms/step - loss: 0.4943 - accuracy: 0.7972 - val_loss: 0.5806 - val_accuracy: 0.7752\n",
      "Epoch 21/50\n",
      "569/569 [==============================] - 2s 3ms/step - loss: 0.4890 - accuracy: 0.7988 - val_loss: 0.5833 - val_accuracy: 0.7716\n",
      "487/487 [==============================] - 1s 1ms/step - loss: 0.5833 - accuracy: 0.7717\n"
     ]
    }
   ],
   "source": [
    "history, result, y_test, y_preds, model, pipe = dlfuncs.train_model(train, 'adam', 'sparse_categorical_crossentropy', target_var, feats_to_exclude, metrics=metrics)"
   ]
  },
  {
   "cell_type": "code",
   "execution_count": 13,
   "id": "27c2a2ef",
   "metadata": {},
   "outputs": [
    {
     "data": {
      "text/plain": [
       "[0.5832753777503967, 0.771709144115448]"
      ]
     },
     "execution_count": 13,
     "metadata": {},
     "output_type": "execute_result"
    }
   ],
   "source": [
    "result"
   ]
  },
  {
   "cell_type": "code",
   "execution_count": 14,
   "id": "12de4afc",
   "metadata": {},
   "outputs": [
    {
     "data": {
      "image/png": "[encoded data removed]",
      "text/plain": [
       "<Figure size 432x288 with 1 Axes>"
      ]
     },
     "metadata": {
      "needs_background": "light"
     },
     "output_type": "display_data"
    }
   ],
   "source": [
    "dlfuncs.plot_history(history)"
   ]
  },
  {
   "cell_type": "code",
   "execution_count": null,
   "id": "7067f549",
   "metadata": {},
   "outputs": [],
   "source": []
  }
 ],
 "metadata": {
  "kernelspec": {
   "display_name": "Python [conda env:PythonAdv] *",
   "language": "python",
   "name": "conda-env-PythonAdv-py"
  },
  "language_info": {
   "codemirror_mode": {
    "name": "ipython",
    "version": 3
   },
   "file_extension": ".py",
   "mimetype": "text/x-python",
   "name": "python",
   "nbconvert_exporter": "python",
   "pygments_lexer": "ipython3",
   "version": "3.8.12"
  }
 },
 "nbformat": 4,
 "nbformat_minor": 5
}
