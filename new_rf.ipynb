{
 "cells": [
  {
   "cell_type": "code",
   "execution_count": 1,
   "id": "181e5c24",
   "metadata": {},
   "outputs": [],
   "source": [
    "import pandas as pd\n",
    "from pandas.core.frame import DataFrame\n",
    "import numpy as np\n",
    "import matplotlib.pyplot as plt\n",
    "import seaborn as sns\n",
    "import re\n",
    "import os\n",
    "import utils\n",
    "import funcs\n",
    "import eda_plots\n",
    "import new_mlfuncs"
   ]
  },
  {
   "cell_type": "code",
   "execution_count": 2,
   "id": "93e70567",
   "metadata": {},
   "outputs": [],
   "source": [
    "pd.set_option('display.max_columns', 500)"
   ]
  },
  {
   "cell_type": "code",
   "execution_count": 3,
   "id": "2af85c9b",
   "metadata": {},
   "outputs": [
    {
     "name": "stdout",
     "output_type": "stream",
     "text": [
      "There are 41 columns and 59400 records in the dataframe.\n",
      "Extracting count and percentages of nulls and non nulls\n"
     ]
    }
   ],
   "source": [
    "# import train data\n",
    "train_filepath = 'data/df_merged.csv'\n",
    "train_df, train_df_nulls = funcs.read_and_qa(train_filepath)"
   ]
  },
  {
   "cell_type": "code",
   "execution_count": 4,
   "id": "1575d940",
   "metadata": {},
   "outputs": [
    {
     "name": "stdout",
     "output_type": "stream",
     "text": [
      "There are 40 columns and 14850 records in the dataframe.\n",
      "Extracting count and percentages of nulls and non nulls\n"
     ]
    }
   ],
   "source": [
    "# import test data\n",
    "test_filepath = 'data/test_values.csv'\n",
    "test_df, test_df_nulls = funcs.read_and_qa(test_filepath)"
   ]
  },
  {
   "cell_type": "code",
   "execution_count": 5,
   "id": "edf7d03b",
   "metadata": {},
   "outputs": [],
   "source": [
    "# initial columns to drop\n",
    "initial_to_drop = ['id', 'date_recorded', 'num_private', 'region', 'region_code', 'recorded_by', 'extraction_type_group', 'extraction_type_class',\\\n",
    "                  'quantity_group', 'source_type', 'waterpoint_type_group', 'permit', 'funder', 'installer', 'wpt_name', 'subvillage', 'lga', 'ward',\\\n",
    "                  'management_group', 'payment']\n",
    "target_var = 'status_group'\n",
    "num_cols = []\n",
    "feats_to_exclude = []"
   ]
  },
  {
   "cell_type": "code",
   "execution_count": 6,
   "id": "6280c32c",
   "metadata": {},
   "outputs": [
    {
     "name": "stdout",
     "output_type": "stream",
     "text": [
      "Dropping: id\n",
      "Dropping: date_recorded\n",
      "Dropping: num_private\n",
      "Dropping: region\n",
      "Dropping: region_code\n",
      "Dropping: recorded_by\n",
      "Dropping: extraction_type_group\n",
      "Dropping: extraction_type_class\n",
      "Dropping: quantity_group\n",
      "Dropping: source_type\n",
      "Dropping: waterpoint_type_group\n",
      "Dropping: permit\n",
      "Dropping: funder\n",
      "Dropping: installer\n",
      "Dropping: wpt_name\n",
      "Dropping: subvillage\n",
      "Dropping: lga\n",
      "Dropping: ward\n",
      "Dropping: management_group\n",
      "Dropping: payment\n",
      "Dropping scheme_name due to missing values count above threshold: 0.4\n",
      "There are no high correlated features. No column will be dropped!\n",
      "Dropping low variance feature: public_meeting\n"
     ]
    }
   ],
   "source": [
    "train_red_df = new_mlfuncs.pre_ml_preprocessing(train_df, initial_to_drop, num_cols, target_var = 'status_group', missing_val_threshold = 40, num_cols_threshold = 0.9, low_var_threshold = 0.9)"
   ]
  },
  {
   "cell_type": "code",
   "execution_count": 7,
   "id": "e63edae0",
   "metadata": {},
   "outputs": [
    {
     "name": "stdout",
     "output_type": "stream",
     "text": [
      "Dropping: id\n",
      "Dropping: date_recorded\n",
      "Dropping: num_private\n",
      "Dropping: region\n",
      "Dropping: region_code\n",
      "Dropping: recorded_by\n",
      "Dropping: extraction_type_group\n",
      "Dropping: extraction_type_class\n",
      "Dropping: quantity_group\n",
      "Dropping: source_type\n",
      "Dropping: waterpoint_type_group\n",
      "Dropping: permit\n",
      "Dropping: funder\n",
      "Dropping: installer\n",
      "Dropping: wpt_name\n",
      "Dropping: subvillage\n",
      "Dropping: lga\n",
      "Dropping: ward\n",
      "Dropping: management_group\n",
      "Dropping: payment\n",
      "Dropping scheme_name due to missing values count above threshold: 0.4\n",
      "There are no high correlated features. No column will be dropped!\n",
      "Dropping low variance feature: public_meeting\n"
     ]
    }
   ],
   "source": [
    "test_red_df = new_mlfuncs.pre_ml_preprocessing(test_df, initial_to_drop, num_cols, target_var = None, missing_val_threshold = 40, num_cols_threshold = 0.9, low_var_threshold = 0.9)"
   ]
  },
  {
   "cell_type": "code",
   "execution_count": 8,
   "id": "692e2004",
   "metadata": {},
   "outputs": [],
   "source": [
    "train, test, le = new_mlfuncs.target_encode_categorical_features(train_red_df, test_red_df, target=target_var, alpha=5)"
   ]
  },
  {
   "cell_type": "code",
   "execution_count": 9,
   "id": "ac9d0e8c",
   "metadata": {},
   "outputs": [],
   "source": [
    "target_var = 'target_encoded'"
   ]
  },
  {
   "cell_type": "code",
   "execution_count": 10,
   "id": "5023fa22",
   "metadata": {},
   "outputs": [
    {
     "name": "stdout",
     "output_type": "stream",
     "text": [
      "Creating pipeline for RandomForestClassifier.\n",
      "Fitting training data to pipeline for RandomForestClassifier.\n",
      "Predicting test values for RandomForestClassifier.\n",
      "Calculating accuracy score for RandomForestClassifier.\n",
      "Accuracy Score for RandomForestClassifier: 0.7900007204091924\n",
      "####################################################################################\n",
      "RandomForestClassifier model yielded the highest Accuracy Score of: 0.79\n"
     ]
    },
    {
     "data": {
      "image/png": "[encoded data removed]",
      "text/plain": [
       "<Figure size 1080x864 with 1 Axes>"
      ]
     },
     "metadata": {
      "needs_background": "light"
     },
     "output_type": "display_data"
    },
    {
     "name": "stdout",
     "output_type": "stream",
     "text": [
      "####################################################################################\n"
     ]
    }
   ],
   "source": [
    "best_classifier_acc_score, pipe, final_predictors = new_mlfuncs.multi_models_classifiers(train, target_var,  feats_to_exclude, stratify = True, test_size = 0.25, classifier_type = 'multi_class', text_feats = None)"
   ]
  },
  {
   "cell_type": "code",
   "execution_count": 12,
   "id": "ccaee966",
   "metadata": {},
   "outputs": [
    {
     "data": {
      "text/plain": [
       "Pipeline(steps=[('columntransformer',\n",
       "                 ColumnTransformer(remainder='passthrough',\n",
       "                                   transformers=[('pipeline-1',\n",
       "                                                  Pipeline(steps=[('simpleimputer',\n",
       "                                                                   SimpleImputer(fill_value='missing',\n",
       "                                                                                 strategy='constant')),\n",
       "                                                                  ('onehotencoder',\n",
       "                                                                   OneHotEncoder(handle_unknown='ignore'))]),\n",
       "                                                  []),\n",
       "                                                 ('pipeline-2',\n",
       "                                                  Pipeline(steps=[('simpleimputer',\n",
       "                                                                   SimpleImputer()),\n",
       "                                                                  ('standardscaler',\n",
       "                                                                   Standard...\n",
       "                                                  ['amount_tsh', 'gps_height',\n",
       "                                                   'longitude', 'latitude',\n",
       "                                                   'basin', 'district_code',\n",
       "                                                   'population',\n",
       "                                                   'scheme_management',\n",
       "                                                   'construction_year',\n",
       "                                                   'extraction_type',\n",
       "                                                   'management', 'payment_type',\n",
       "                                                   'water_quality',\n",
       "                                                   'quality_group', 'quantity',\n",
       "                                                   'source', 'source_class',\n",
       "                                                   'waterpoint_type'])])),\n",
       "                ('randomforestclassifier',\n",
       "                 RandomForestClassifier(n_estimators=2000, n_jobs=4,\n",
       "                                        random_state=42))])"
      ]
     },
     "execution_count": 12,
     "metadata": {},
     "output_type": "execute_result"
    }
   ],
   "source": [
    "pipe"
   ]
  },
  {
   "cell_type": "code",
   "execution_count": 11,
   "id": "86a008db",
   "metadata": {},
   "outputs": [
    {
     "name": "stdout",
     "output_type": "stream",
     "text": [
      "hyperparameter tuning for the Best Classifier: RandomForestClassifier\n",
      "Creating pipeline for RandomForestClassifier.\n",
      "Best parameters after GridSearchCV:\n",
      " {'randomforestclassifier__max_depth': 90, 'randomforestclassifier__n_estimators': 3000}\n",
      "Best score after GridSearchCV:\n",
      " 0.78\n"
     ]
    },
    {
     "ename": "KeyError",
     "evalue": "'labelencoder'",
     "output_type": "error",
     "traceback": [
      "\u001b[1;31m---------------------------------------------------------------------------\u001b[0m",
      "\u001b[1;31mKeyError\u001b[0m                                  Traceback (most recent call last)",
      "\u001b[1;32m~\\AppData\\Local\\Temp/ipykernel_22996/111672980.py\u001b[0m in \u001b[0;36m<module>\u001b[1;34m\u001b[0m\n\u001b[1;32m----> 1\u001b[1;33m \u001b[0mGridSearchCV_model_output\u001b[0m \u001b[1;33m=\u001b[0m \u001b[0mnew_mlfuncs\u001b[0m\u001b[1;33m.\u001b[0m\u001b[0mbest_classifier_hyperparameter\u001b[0m\u001b[1;33m(\u001b[0m\u001b[0mtrain\u001b[0m\u001b[1;33m,\u001b[0m \u001b[0mbest_classifier_acc_score\u001b[0m\u001b[1;33m,\u001b[0m \u001b[0mtarget_var\u001b[0m\u001b[1;33m,\u001b[0m \u001b[0mfeats_to_exclude\u001b[0m\u001b[1;33m,\u001b[0m \u001b[0mstratify\u001b[0m \u001b[1;33m=\u001b[0m \u001b[1;32mTrue\u001b[0m\u001b[1;33m,\u001b[0m \u001b[0mtest_size\u001b[0m \u001b[1;33m=\u001b[0m \u001b[1;36m0.25\u001b[0m\u001b[1;33m,\u001b[0m \u001b[0mclassifier_type\u001b[0m \u001b[1;33m=\u001b[0m \u001b[1;34m'multi_class'\u001b[0m\u001b[1;33m,\u001b[0m \u001b[0mtext_feats\u001b[0m \u001b[1;33m=\u001b[0m \u001b[1;32mNone\u001b[0m\u001b[1;33m)\u001b[0m\u001b[1;33m\u001b[0m\u001b[1;33m\u001b[0m\u001b[0m\n\u001b[0m",
      "\u001b[1;32m~\\OneDrive\\Desktop\\gitrepos\\data_mine_water_table\\new_mlfuncs.py\u001b[0m in \u001b[0;36mbest_classifier_hyperparameter\u001b[1;34m(df, best_classifier, target_var, feats_to_exclude, stratify, test_size, classifier_type, text_feats)\u001b[0m\n\u001b[0;32m    445\u001b[0m     \u001b[0mprint\u001b[0m\u001b[1;33m(\u001b[0m\u001b[1;34m\"Best score after GridSearchCV:\\n {:.2f}\"\u001b[0m\u001b[1;33m.\u001b[0m\u001b[0mformat\u001b[0m\u001b[1;33m(\u001b[0m\u001b[0mgrid_best_score\u001b[0m\u001b[1;33m)\u001b[0m\u001b[1;33m)\u001b[0m\u001b[1;33m\u001b[0m\u001b[1;33m\u001b[0m\u001b[0m\n\u001b[0;32m    446\u001b[0m     \u001b[1;31m# get feature names\u001b[0m\u001b[1;33m\u001b[0m\u001b[1;33m\u001b[0m\u001b[1;33m\u001b[0m\u001b[0m\n\u001b[1;32m--> 447\u001b[1;33m     \u001b[0mcat_feature_names\u001b[0m \u001b[1;33m=\u001b[0m \u001b[0mgrid_search\u001b[0m\u001b[1;33m.\u001b[0m\u001b[0mbest_estimator_\u001b[0m\u001b[1;33m.\u001b[0m\u001b[0mnamed_steps\u001b[0m\u001b[1;33m[\u001b[0m\u001b[1;34m'columntransformer'\u001b[0m\u001b[1;33m]\u001b[0m\u001b[1;33m.\u001b[0m\u001b[0mnamed_transformers_\u001b[0m\u001b[1;33m[\u001b[0m\u001b[1;34m'pipeline-1'\u001b[0m\u001b[1;33m]\u001b[0m\u001b[1;33m.\u001b[0m\u001b[0;31m\\\u001b[0m\u001b[1;33m\u001b[0m\u001b[1;33m\u001b[0m\u001b[0m\n\u001b[0m\u001b[0;32m    448\u001b[0m         \u001b[0mnamed_steps\u001b[0m\u001b[1;33m[\u001b[0m\u001b[1;34m'labelencoder'\u001b[0m\u001b[1;33m]\u001b[0m\u001b[1;33m.\u001b[0m\u001b[0mget_feature_names\u001b[0m\u001b[1;33m(\u001b[0m\u001b[0minput_features\u001b[0m \u001b[1;33m=\u001b[0m \u001b[0mcat_feats\u001b[0m\u001b[1;33m)\u001b[0m\u001b[1;33m\u001b[0m\u001b[1;33m\u001b[0m\u001b[0m\n\u001b[0;32m    449\u001b[0m     \u001b[0mall_feature_names\u001b[0m \u001b[1;33m=\u001b[0m \u001b[0mnp\u001b[0m\u001b[1;33m.\u001b[0m\u001b[0mr_\u001b[0m\u001b[1;33m[\u001b[0m\u001b[0mcat_feature_names\u001b[0m\u001b[1;33m,\u001b[0m \u001b[0mnum_feats\u001b[0m\u001b[1;33m]\u001b[0m\u001b[1;33m\u001b[0m\u001b[1;33m\u001b[0m\u001b[0m\n",
      "\u001b[1;31mKeyError\u001b[0m: 'labelencoder'"
     ]
    }
   ],
   "source": [
    "GridSearchCV_model_output = new_mlfuncs.best_classifier_hyperparameter(train, best_classifier_acc_score, target_var, feats_to_exclude, stratify = True, test_size = 0.25, classifier_type = 'multi_class', text_feats = None)"
   ]
  },
  {
   "cell_type": "code",
   "execution_count": null,
   "id": "d1af124b",
   "metadata": {},
   "outputs": [],
   "source": []
  },
  {
   "cell_type": "code",
   "execution_count": null,
   "id": "05141044",
   "metadata": {},
   "outputs": [],
   "source": []
  },
  {
   "cell_type": "code",
   "execution_count": null,
   "id": "ceea6c5d",
   "metadata": {},
   "outputs": [],
   "source": []
  }
 ],
 "metadata": {
  "kernelspec": {
   "display_name": "Python [conda env:PythonAdv] *",
   "language": "python",
   "name": "conda-env-PythonAdv-py"
  },
  "language_info": {
   "codemirror_mode": {
    "name": "ipython",
    "version": 3
   },
   "file_extension": ".py",
   "mimetype": "text/x-python",
   "name": "python",
   "nbconvert_exporter": "python",
   "pygments_lexer": "ipython3",
   "version": "3.8.12"
  }
 },
 "nbformat": 4,
 "nbformat_minor": 5
}
